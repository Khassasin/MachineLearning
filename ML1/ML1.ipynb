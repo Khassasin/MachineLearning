{
 "cells": [
  {
   "cell_type": "code",
   "execution_count": 13,
   "metadata": {},
   "outputs": [
    {
     "data": {
      "text/html": [
       "<div>\n",
       "<style scoped>\n",
       "    .dataframe tbody tr th:only-of-type {\n",
       "        vertical-align: middle;\n",
       "    }\n",
       "\n",
       "    .dataframe tbody tr th {\n",
       "        vertical-align: top;\n",
       "    }\n",
       "\n",
       "    .dataframe thead th {\n",
       "        text-align: right;\n",
       "    }\n",
       "</style>\n",
       "<table border=\"1\" class=\"dataframe\">\n",
       "  <thead>\n",
       "    <tr style=\"text-align: right;\">\n",
       "      <th></th>\n",
       "      <th>Survived</th>\n",
       "      <th>Pclass</th>\n",
       "      <th>Name</th>\n",
       "      <th>Sex</th>\n",
       "      <th>Age</th>\n",
       "      <th>SibSp</th>\n",
       "      <th>Parch</th>\n",
       "      <th>Ticket</th>\n",
       "      <th>Fare</th>\n",
       "      <th>Cabin</th>\n",
       "      <th>Embarked</th>\n",
       "    </tr>\n",
       "    <tr>\n",
       "      <th>PassengerId</th>\n",
       "      <th></th>\n",
       "      <th></th>\n",
       "      <th></th>\n",
       "      <th></th>\n",
       "      <th></th>\n",
       "      <th></th>\n",
       "      <th></th>\n",
       "      <th></th>\n",
       "      <th></th>\n",
       "      <th></th>\n",
       "      <th></th>\n",
       "    </tr>\n",
       "  </thead>\n",
       "  <tbody>\n",
       "    <tr>\n",
       "      <th>1</th>\n",
       "      <td>0</td>\n",
       "      <td>3</td>\n",
       "      <td>Braund, Mr. Owen Harris</td>\n",
       "      <td>male</td>\n",
       "      <td>22.0</td>\n",
       "      <td>1</td>\n",
       "      <td>0</td>\n",
       "      <td>A/5 21171</td>\n",
       "      <td>7.25</td>\n",
       "      <td>NaN</td>\n",
       "      <td>S</td>\n",
       "    </tr>\n",
       "    <tr>\n",
       "      <th>2</th>\n",
       "      <td>1</td>\n",
       "      <td>1</td>\n",
       "      <td>Cumings, Mrs. John Bradley (Florence Briggs Th...</td>\n",
       "      <td>female</td>\n",
       "      <td>38.0</td>\n",
       "      <td>1</td>\n",
       "      <td>0</td>\n",
       "      <td>PC 17599</td>\n",
       "      <td>71.28</td>\n",
       "      <td>C85</td>\n",
       "      <td>C</td>\n",
       "    </tr>\n",
       "    <tr>\n",
       "      <th>3</th>\n",
       "      <td>1</td>\n",
       "      <td>3</td>\n",
       "      <td>Heikkinen, Miss. Laina</td>\n",
       "      <td>female</td>\n",
       "      <td>26.0</td>\n",
       "      <td>0</td>\n",
       "      <td>0</td>\n",
       "      <td>STON/O2. 3101282</td>\n",
       "      <td>7.92</td>\n",
       "      <td>NaN</td>\n",
       "      <td>S</td>\n",
       "    </tr>\n",
       "    <tr>\n",
       "      <th>4</th>\n",
       "      <td>1</td>\n",
       "      <td>1</td>\n",
       "      <td>Futrelle, Mrs. Jacques Heath (Lily May Peel)</td>\n",
       "      <td>female</td>\n",
       "      <td>35.0</td>\n",
       "      <td>1</td>\n",
       "      <td>0</td>\n",
       "      <td>113803</td>\n",
       "      <td>53.10</td>\n",
       "      <td>C123</td>\n",
       "      <td>S</td>\n",
       "    </tr>\n",
       "    <tr>\n",
       "      <th>5</th>\n",
       "      <td>0</td>\n",
       "      <td>3</td>\n",
       "      <td>Allen, Mr. William Henry</td>\n",
       "      <td>male</td>\n",
       "      <td>35.0</td>\n",
       "      <td>0</td>\n",
       "      <td>0</td>\n",
       "      <td>373450</td>\n",
       "      <td>8.05</td>\n",
       "      <td>NaN</td>\n",
       "      <td>S</td>\n",
       "    </tr>\n",
       "  </tbody>\n",
       "</table>\n",
       "</div>"
      ],
      "text/plain": [
       "             Survived  Pclass  \\\n",
       "PassengerId                     \n",
       "1                   0       3   \n",
       "2                   1       1   \n",
       "3                   1       3   \n",
       "4                   1       1   \n",
       "5                   0       3   \n",
       "\n",
       "                                                          Name     Sex   Age  \\\n",
       "PassengerId                                                                    \n",
       "1                                      Braund, Mr. Owen Harris    male  22.0   \n",
       "2            Cumings, Mrs. John Bradley (Florence Briggs Th...  female  38.0   \n",
       "3                                       Heikkinen, Miss. Laina  female  26.0   \n",
       "4                 Futrelle, Mrs. Jacques Heath (Lily May Peel)  female  35.0   \n",
       "5                                     Allen, Mr. William Henry    male  35.0   \n",
       "\n",
       "             SibSp  Parch            Ticket   Fare Cabin Embarked  \n",
       "PassengerId                                                        \n",
       "1                1      0         A/5 21171   7.25   NaN        S  \n",
       "2                1      0          PC 17599  71.28   C85        C  \n",
       "3                0      0  STON/O2. 3101282   7.92   NaN        S  \n",
       "4                1      0            113803  53.10  C123        S  \n",
       "5                0      0            373450   8.05   NaN        S  "
      ]
     },
     "execution_count": 13,
     "metadata": {},
     "output_type": "execute_result"
    }
   ],
   "source": [
    "import pandas as pd\n",
    "pd.set_option(\"display.precision\", 2)\n",
    "data = pd.read_csv('titanic_train.csv',\n",
    "                  index_col='PassengerId')\n",
    "data.head()"
   ]
  },
  {
   "cell_type": "code",
   "execution_count": 14,
   "metadata": {},
   "outputs": [
    {
     "data": {
      "text/plain": [
       "Sex\n",
       "male      577\n",
       "female    314\n",
       "Name: count, dtype: int64"
      ]
     },
     "execution_count": 14,
     "metadata": {},
     "output_type": "execute_result"
    }
   ],
   "source": [
    "data['Sex'].value_counts()"
   ]
  },
  {
   "cell_type": "code",
   "execution_count": 15,
   "metadata": {},
   "outputs": [
    {
     "data": {
      "text/plain": [
       "184"
      ]
     },
     "execution_count": 15,
     "metadata": {},
     "output_type": "execute_result"
    }
   ],
   "source": [
    "len(data.loc[data['Pclass'] == 2])"
   ]
  },
  {
   "cell_type": "code",
   "execution_count": 16,
   "metadata": {},
   "outputs": [
    {
     "data": {
      "text/plain": [
       "Sex\n",
       "male      108\n",
       "female     76\n",
       "Name: count, dtype: int64"
      ]
     },
     "execution_count": 16,
     "metadata": {},
     "output_type": "execute_result"
    }
   ],
   "source": [
    "data[data['Pclass'] == 2]['Sex'].value_counts()"
   ]
  },
  {
   "cell_type": "code",
   "execution_count": 17,
   "metadata": {},
   "outputs": [
    {
     "name": "stdout",
     "output_type": "stream",
     "text": [
      "14.45\n",
      "49.69\n"
     ]
    }
   ],
   "source": [
    "print(data['Fare'].median().round(2))\n",
    "print(data['Fare'].std().round(2))"
   ]
  },
  {
   "cell_type": "code",
   "execution_count": 18,
   "metadata": {},
   "outputs": [
    {
     "data": {
      "text/plain": [
       "False"
      ]
     },
     "execution_count": 18,
     "metadata": {},
     "output_type": "execute_result"
    }
   ],
   "source": [
    "data[data['Survived'] == 1]['Age'].mean() > data[data['Survived'] == 0]['Age'].mean()"
   ]
  },
  {
   "cell_type": "code",
   "execution_count": 19,
   "metadata": {},
   "outputs": [
    {
     "name": "stdout",
     "output_type": "stream",
     "text": [
      "40.625\n",
      "22.727272727272727\n"
     ]
    }
   ],
   "source": [
    "survived_young = len(data[(data['Age'] < 30) & (data['Survived'] == 1)])\n",
    "all_people_young = len(data[data['Age'] < 30])\n",
    "print(survived_young / all_people_young * 100)\n",
    "survived_old = len(data[(data['Age'] > 60) & (data['Survived'] == 1)])\n",
    "all_people_old = len(data[data['Age'] > 60])\n",
    "print(survived_old / all_people_old * 100)"
   ]
  },
  {
   "cell_type": "code",
   "execution_count": 20,
   "metadata": {},
   "outputs": [
    {
     "name": "stdout",
     "output_type": "stream",
     "text": [
      "18.890814558058924\n",
      "74.20382165605095\n"
     ]
    }
   ],
   "source": [
    "survived_male = len(data[(data['Sex'] == 'male') & (data['Survived'] == 1)])\n",
    "all_people_male = len(data[data['Sex'] == 'male'])\n",
    "print(survived_male / all_people_male * 100)\n",
    "survived_female = len(data[(data['Sex'] == 'female') & (data['Survived'] == 1)])\n",
    "all_people_female = len(data[data['Sex'] == 'female'])\n",
    "print(survived_female / all_people_female * 100)"
   ]
  },
  {
   "cell_type": "code",
   "execution_count": 21,
   "metadata": {},
   "outputs": [
    {
     "name": "stdout",
     "output_type": "stream",
     "text": [
      "         Name  Count\n",
      "0                374\n",
      "259   William     30\n",
      "122      John     21\n",
      "84     George     12\n",
      "38    Charles     12\n",
      "..        ...    ...\n",
      "106    Ilmari      1\n",
      "107   Ingvald      1\n",
      "109     Jaako      1\n",
      "111   Jacques      1\n",
      "263  Yousseff      1\n",
      "\n",
      "[264 rows x 2 columns]\n"
     ]
    }
   ],
   "source": [
    "def get_first_name(full_name):\n",
    "    words = full_name.split()\n",
    "    first_name = ''\n",
    "    if 'Mr.' in words:\n",
    "        first_name = words[words.index('Mr.') + 1]\n",
    "    return first_name\n",
    "\n",
    "data['Name'] = data['Name'].apply(get_first_name)\n",
    "names = data.loc[data['Name'] != 'null']\n",
    "names_count = names.groupby(['Name']).size().reset_index()\n",
    "names_count.columns = ['Name', 'Count']\n",
    "names_sorted = names_count.sort_values(by=['Count'], ascending=False)\n",
    "print(names_sorted)"
   ]
  },
  {
   "cell_type": "code",
   "execution_count": 22,
   "metadata": {},
   "outputs": [
    {
     "name": "stdout",
     "output_type": "stream",
     "text": [
      "True\n",
      "False\n"
     ]
    }
   ],
   "source": [
    "print(data[(data['Sex'] == 'male') & (data['Pclass'] == 1)]['Age'].mean() > 40)\n",
    "print(data[(data['Sex'] == 'female') & (data['Pclass'] == 1)]['Age'].mean() > 40)"
   ]
  },
  {
   "cell_type": "code",
   "execution_count": 23,
   "metadata": {},
   "outputs": [
    {
     "name": "stdout",
     "output_type": "stream",
     "text": [
      "True\n",
      "True\n",
      "True\n"
     ]
    }
   ],
   "source": [
    "print(data[(data['Sex'] == 'male') & (data['Pclass'] == 1)]['Age'].mean() > data[(data['Sex'] == 'female') & (data['Pclass'] == 1)]['Age'].mean())\n",
    "print(data[(data['Sex'] == 'male') & (data['Pclass'] == 2)]['Age'].mean() > data[(data['Sex'] == 'female') & (data['Pclass'] == 2)]['Age'].mean())\n",
    "print(data[(data['Sex'] == 'male') & (data['Pclass'] == 3)]['Age'].mean() > data[(data['Sex'] == 'female') & (data['Pclass'] == 3)]['Age'].mean())"
   ]
  },
  {
   "cell_type": "code",
   "execution_count": 24,
   "metadata": {},
   "outputs": [
    {
     "name": "stdout",
     "output_type": "stream",
     "text": [
      "True\n",
      "True\n"
     ]
    }
   ],
   "source": [
    "print(data[(data['Pclass'] == 1)]['Age'].mean() > data[(data['Pclass'] == 2)]['Age'].mean())\n",
    "print(data[(data['Pclass'] == 2)]['Age'].mean() > data[(data['Pclass'] == 3)]['Age'].mean())"
   ]
  }
 ],
 "metadata": {
  "kernelspec": {
   "display_name": "Python 3",
   "language": "python",
   "name": "python3"
  },
  "language_info": {
   "codemirror_mode": {
    "name": "ipython",
    "version": 3
   },
   "file_extension": ".py",
   "mimetype": "text/x-python",
   "name": "python",
   "nbconvert_exporter": "python",
   "pygments_lexer": "ipython3",
   "version": "3.11.4"
  }
 },
 "nbformat": 4,
 "nbformat_minor": 2
}
