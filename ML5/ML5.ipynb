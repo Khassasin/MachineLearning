{
 "cells": [
  {
   "cell_type": "markdown",
   "metadata": {},
   "source": [
    "Датасет: wiki4HE"
   ]
  },
  {
   "cell_type": "code",
   "execution_count": 38,
   "metadata": {},
   "outputs": [],
   "source": [
    "import numpy as np\n",
    "import pandas as pd\n",
    "from sklearn import preprocessing\n",
    "from sklearn.metrics import normalized_mutual_info_score\n",
    "from sklearn.cluster import KMeans\n",
    "from sklearn.cluster import MiniBatchKMeans\n",
    "from sklearn.cluster import AffinityPropagation"
   ]
  },
  {
   "cell_type": "markdown",
   "metadata": {},
   "source": [
    "Загрузка данных."
   ]
  },
  {
   "cell_type": "code",
   "execution_count": 39,
   "metadata": {},
   "outputs": [],
   "source": [
    "df = pd.read_csv('wiki4HE.csv', sep=';')\n",
    "df = df.apply(pd.to_numeric, errors='coerce')\n",
    "df.dropna(how=\"any\", inplace=True, axis=0)\n",
    "df.head()\n",
    "x_data = np.array(df.drop('YEARSEXP', axis=1))\n",
    "y_data = np.array(df['YEARSEXP'])"
   ]
  },
  {
   "cell_type": "markdown",
   "metadata": {},
   "source": [
    "1. Произвести масштабирование признаков (scaling)."
   ]
  },
  {
   "cell_type": "code",
   "execution_count": 40,
   "metadata": {},
   "outputs": [],
   "source": [
    "scaler = preprocessing.StandardScaler()\n",
    "x_data = scaler.fit_transform(x_data)"
   ]
  },
  {
   "cell_type": "markdown",
   "metadata": {},
   "source": [
    "2. С использованием библиотеки scikit-learn написать программу с использованием алгоритмов кластеризации данных, позволяющую разделить исходную выборку на классы, соответствующие предложенной вариантом задаче."
   ]
  },
  {
   "cell_type": "code",
   "execution_count": 41,
   "metadata": {},
   "outputs": [
    {
     "name": "stdout",
     "output_type": "stream",
     "text": [
      "[0 2 1 2 0 0 0 0 0 0 2 0 0 2 0 0 1 2 0 1 1 2 2 0 0 0 0 1 0 0 1 0 1 1 0 0 0\n",
      " 0 0 0 0 0 2 0 2 0 0 1 1 2 1 0 1 0 1 0 2 0 2 0 1 1 2 2 1 0 0 1 2 0 1 1 2 2\n",
      " 1 2 0 2 0 0 2 2 1 2 2 0 0 2 1 0 2 2 1 0 2 2 2 0 0 2 1 1 2 0 1 2 0 2 2 0 2\n",
      " 0 0 1 2 0 2 2 0 0 2 1 2 2 2 1 2 0 0 0 2 2 0 2 0 2 2 2 2 2 0 2 0 1 2 2 2 2\n",
      " 1 2 2 2 2 2 2 2 0 0 0 1 2 2 1 0 1 0 0 2 2 0 2 0 2 2 0 2]\n",
      "Точность кластеризации KMeans:  0.09077047153492059\n",
      "Точность кластеризации MiniBatchKMeans:  0.09077047153492059\n",
      "Точность кластеризации AffinityPropagation:  0.29648072054094216\n"
     ]
    }
   ],
   "source": [
    "#KMeans\n",
    "kmeans = KMeans(n_clusters=3)\n",
    "kmeans.fit(x_data)\n",
    "kmeans_score = normalized_mutual_info_score(y_data, kmeans.labels_)\n",
    "\n",
    "print(kmeans.labels_)\n",
    "\n",
    "print(\"Точность кластеризации KMeans: \", kmeans_score)\n",
    "\n",
    "#MiniBatchKMeans\n",
    "mini_batch_kmeans = MiniBatchKMeans(n_clusters=3)\n",
    "mini_batch_kmeans.fit(x_data)\n",
    "mini_batch_kmeans_score = normalized_mutual_info_score(y_data, mini_batch_kmeans.labels_)\n",
    "\n",
    "print(\"Точность кластеризации MiniBatchKMeans: \", kmeans_score)\n",
    "\n",
    "#AffinityPropagation\n",
    "affinity_propagation = AffinityPropagation()\n",
    "affinity_propagation.fit(x_data)\n",
    "affinity_propagation_score = normalized_mutual_info_score(y_data, affinity_propagation.labels_)\n",
    "\n",
    "print(\"Точность кластеризации AffinityPropagation: \", affinity_propagation_score)"
   ]
  },
  {
   "cell_type": "markdown",
   "metadata": {},
   "source": [
    "3. Провести эксперименты и определить наилучший алгоритм кластеризации, параметры алгоритма. Необходимо использовать не менее 3-х алгоритмов. Данные экспериментов необходимо представить в отчете (графики, ход проведения эксперимента, выводы)."
   ]
  },
  {
   "cell_type": "markdown",
   "metadata": {},
   "source": [
    "#### Подбор параметров для KMeans."
   ]
  },
  {
   "cell_type": "code",
   "execution_count": 42,
   "metadata": {},
   "outputs": [
    {
     "name": "stdout",
     "output_type": "stream",
     "text": [
      "Лучшая точность KMeans:  0.1315131025811878\n",
      "Лучшее значение параметра n_clusters:  4\n",
      "Лучшее значение параметра n_init:  1\n"
     ]
    }
   ],
   "source": [
    "best_n_clusters = 1\n",
    "best_n_init = 1\n",
    "best_kmeans_score = -1e20\n",
    "for n_clusters in range(1, 5):\n",
    "    for n_init in range(1, 20):\n",
    "        kmeans = KMeans(n_clusters=n_clusters, n_init=n_init)\n",
    "        kmeans.fit(x_data)\n",
    "        kmeans_score = normalized_mutual_info_score(y_data, kmeans.labels_)\n",
    "        \n",
    "        if kmeans_score > best_kmeans_score:\n",
    "            best_kmeans_score = kmeans_score\n",
    "            best_n_clusters = n_clusters\n",
    "            best_n_init = n_init\n",
    "\n",
    "print('Лучшая точность KMeans: ', best_kmeans_score)\n",
    "print('Лучшее значение параметра n_clusters: ', best_n_clusters)\n",
    "print('Лучшее значение параметра n_init: ', best_n_init)"
   ]
  },
  {
   "cell_type": "markdown",
   "metadata": {},
   "source": [
    "#### Подбор параметров для MiniBatchKMeans."
   ]
  },
  {
   "cell_type": "code",
   "execution_count": 43,
   "metadata": {},
   "outputs": [
    {
     "name": "stdout",
     "output_type": "stream",
     "text": [
      "Лучшая точность MiniBatchKMeans:  0.12948074029485257\n",
      "Лучшее значение параметра n_clusters:  4\n",
      "Лучшее значение параметра n_init:  5\n"
     ]
    }
   ],
   "source": [
    "best_n_clusters = 1\n",
    "best_n_init = 1\n",
    "best_mini_batch_kmeans_score = -1e20\n",
    "for n_clusters in range(1, 5):\n",
    "    for n_init in range(1, 20):\n",
    "        mini_batch_kmeans = MiniBatchKMeans(n_clusters=n_clusters, n_init=n_init)\n",
    "        mini_batch_kmeans.fit(x_data)\n",
    "        mini_batch_kmeans_score = normalized_mutual_info_score(y_data, mini_batch_kmeans.labels_)\n",
    "        \n",
    "        if mini_batch_kmeans_score > best_mini_batch_kmeans_score:\n",
    "            best_mini_batch_kmeans_score = mini_batch_kmeans_score\n",
    "            best_n_clusters = n_clusters\n",
    "            best_n_init = n_init\n",
    "\n",
    "print('Лучшая точность MiniBatchKMeans: ', best_mini_batch_kmeans_score)\n",
    "print('Лучшее значение параметра n_clusters: ', best_n_clusters)\n",
    "print('Лучшее значение параметра n_init: ', best_n_init)"
   ]
  },
  {
   "cell_type": "markdown",
   "metadata": {},
   "source": [
    "#### Подбор параметров для AffinityPropagation."
   ]
  },
  {
   "cell_type": "code",
   "execution_count": 44,
   "metadata": {},
   "outputs": [
    {
     "name": "stderr",
     "output_type": "stream",
     "text": [
      "c:\\Users\\Khassasin\\AppData\\Local\\Programs\\Python\\Python310\\lib\\site-packages\\sklearn\\cluster\\_affinity_propagation.py:142: ConvergenceWarning: Affinity propagation did not converge, this model may return degenerate cluster centers and labels.\n",
      "  warnings.warn(\n",
      "c:\\Users\\Khassasin\\AppData\\Local\\Programs\\Python\\Python310\\lib\\site-packages\\sklearn\\cluster\\_affinity_propagation.py:142: ConvergenceWarning: Affinity propagation did not converge, this model may return degenerate cluster centers and labels.\n",
      "  warnings.warn(\n",
      "c:\\Users\\Khassasin\\AppData\\Local\\Programs\\Python\\Python310\\lib\\site-packages\\sklearn\\cluster\\_affinity_propagation.py:142: ConvergenceWarning: Affinity propagation did not converge, this model may return degenerate cluster centers and labels.\n",
      "  warnings.warn(\n"
     ]
    },
    {
     "name": "stdout",
     "output_type": "stream",
     "text": [
      "Лучшая точность AffinityPropagation:  0.7349951252603437\n",
      "Лучшее значение параметра damping:  0.5\n",
      "Лучшее значение параметра preference:  -7.89473684210526\n"
     ]
    }
   ],
   "source": [
    "best_damping = 1\n",
    "best_preference = 1\n",
    "best_affinity_propagation_score = -1e20\n",
    "for damping in np.linspace(0.5, 0.8, 20):\n",
    "    for preference in np.linspace(-50, 50, 20):\n",
    "        affinity_propagation = AffinityPropagation(damping=damping, preference=preference)\n",
    "        affinity_propagation.fit(x_data)\n",
    "        affinity_propagation_score = normalized_mutual_info_score(y_data, affinity_propagation.labels_)\n",
    "        \n",
    "        if affinity_propagation_score > best_affinity_propagation_score:\n",
    "            best_affinity_propagation_score = affinity_propagation_score\n",
    "            best_damping = damping\n",
    "            best_preference = preference\n",
    "\n",
    "print('Лучшая точность AffinityPropagation: ', best_affinity_propagation_score)\n",
    "print('Лучшее значение параметра damping: ', best_damping)\n",
    "print('Лучшее значение параметра preference: ', best_preference)"
   ]
  },
  {
   "cell_type": "markdown",
   "metadata": {},
   "source": [
    "#### Вывод"
   ]
  },
  {
   "cell_type": "code",
   "execution_count": 45,
   "metadata": {},
   "outputs": [
    {
     "name": "stdout",
     "output_type": "stream",
     "text": [
      "Точность метода KMeans: 0.1315131025811878\n",
      "Точность метода MiniBatchKMeans: 0.12948074029485257\n",
      "Точность метода AffinityPropagation: 0.7349951252603437\n",
      "\n",
      "Итог: лучшим оказался метод AffinityPropagation\n"
     ]
    }
   ],
   "source": [
    "method_name = ['KMeans', 'MiniBatchKMeans', 'AffinityPropagation']\n",
    "scores = [best_kmeans_score, best_mini_batch_kmeans_score, best_affinity_propagation_score]\n",
    "best_method_name = method_name[np.argmax(scores)]\n",
    "\n",
    "for id, name in enumerate(method_name):\n",
    "    print(f'Точность метода {name}: {scores[id]}')\n",
    "\n",
    "print(f'\\nИтог: лучшим оказался метод {best_method_name}')"
   ]
  }
 ],
 "metadata": {
  "kernelspec": {
   "display_name": "Python 3",
   "language": "python",
   "name": "python3"
  },
  "language_info": {
   "codemirror_mode": {
    "name": "ipython",
    "version": 3
   },
   "file_extension": ".py",
   "mimetype": "text/x-python",
   "name": "python",
   "nbconvert_exporter": "python",
   "pygments_lexer": "ipython3",
   "version": "3.10.7"
  }
 },
 "nbformat": 4,
 "nbformat_minor": 2
}
